{
 "cells": [
  {
   "cell_type": "markdown",
   "metadata": {},
   "source": [
    "# Apuntes"
   ]
  },
  {
   "cell_type": "markdown",
   "metadata": {},
   "source": [
    "/home/omargudino/Documents/Maestria/Topicos_de_la_industria_2/MCA_AutoSC\n",
    "## Proceso 4, crear archivos ROOT utilizando el contenedor"
   ]
  },
  {
   "cell_type": "markdown",
   "metadata": {},
   "source": [
    "## Input\n",
    "/home/omargudino/Documents/Maestria/Topicos_de_la_industria_2/MCA_AutoSC/data/1_MAC/VaryE/e-\n",
    "/home/omargudino/Documents/Maestria/Topicos_de_la_industria_2/MCA_AutoSC/data/1_MAC/VaryE/gamma\n",
    "/home/omargudino/Documents/Maestria/Topicos_de_la_industria_2/MCA_AutoSC/data/1_MAC/VaryE/mu-"
   ]
  },
  {
   "cell_type": "markdown",
   "metadata": {},
   "source": [
    "## Output\n",
    "/home/omargudino/Documents/Maestria/Topicos_de_la_industria_2/MCA_AutoSC/data/2_ROOT/VaryE/e-"
   ]
  },
  {
   "cell_type": "markdown",
   "metadata": {},
   "source": [
    "## Shell\n",
    "\n",
    "time sudo docker exec -it WCSim bash -c \"cd /home/neutrino/software; source run.sh; cd $SOFTWARE/WCSim_build; ./WCSim /home/neutrino/in_out_demos/1_MAC/VaryE/e-/wcs_MCA_e-__0_500_MeV.mac; mv /home/neutrino/software/WCSim_build/wcs_MCA_e-__0_500_MeV.root  /home/neutrino/in_out_demos/2_ROOT/VaryE/e-\""
   ]
  },
  {
   "cell_type": "markdown",
   "metadata": {},
   "source": [
    "## Comandos previos"
   ]
  },
  {
   "cell_type": "markdown",
   "metadata": {},
   "source": [
    "sudo docker images\n",
    "\n",
    "sudo docker run -v < ruta-maquina-local >/MCA_AutoSC/data/in_out_demos:/home/neutrino/in_out_demos -d -it --name=WCSim manu33/wcsim:1.2\n",
    "\n",
    "sudo docker run -v /home/omargudino/Documents/Maestria/Topicos_de_la_industria_2/MCA_AutoSC/data:/home/neutrino/in_out_demos -d -it --name=WCSim manu33/wcsim:1.2 \n",
    "\n"
   ]
  },
  {
   "cell_type": "markdown",
   "metadata": {},
   "source": [
    "# En caso de que se desee remover la instancia anterior para corregir el directorio\n",
    "sudo docker stop WCSim\n",
    "\n",
    "sudo docker rm WCSim\n",
    "\n",
    "time sudo docker exec -it WCSim bash -c \"cd /home/neutrino/software; source run.sh; cd $SOFTWARE/WCSim_build; ./WCSim /home/neutrino/in_out_demos/1_MAC/VaryE/e-/wcs_MCA_e-__0_500_MeV.mac; mv /home/neutrino/software/WCSim_build/wcs_MCA_e-__0_500_MeV.root  /home/neutrino/in_out_demos/2_ROOT/VaryE/e-\"\n"
   ]
  },
  {
   "cell_type": "markdown",
   "metadata": {},
   "source": [
    "## Medidas de ejecución para 10 eventos Proceso 4.\n",
    "### Para 10 eventos\n",
    "\n",
    "Espacio: 1.8Mb e-\n",
    "\n",
    "Espacio: 1.7Mb gamma\n",
    "\n",
    "Espacio: 1.5Mb mu-\n",
    "\n",
    "Tiempo:\t0m6.087s e-\n",
    "\n",
    "Tiempo:  0m6.135s gamma\n",
    "\n",
    "Tiempo:  0m5.566s mu-\n"
   ]
  },
  {
   "cell_type": "markdown",
   "metadata": {},
   "source": [
    "## Medidas de ejecución para 10 eventos Proceso 5.\n",
    "### Para 10 eventos\n",
    "\n",
    "Espacio: 1.5Mb e-\n",
    "\n",
    "Espacio: 1.4Mb gamma\n",
    "\n",
    "Espacio: 1.3Mb mu-\n",
    "\n",
    "Tiempo: 0m1.187s e-\n",
    "\n",
    "Tiempo: 0m1.113s gamma\n",
    "\n",
    "Tiempo: 0m0.998s mu-"
   ]
  },
  {
   "cell_type": "markdown",
   "metadata": {},
   "source": [
    "## Medidas de ejecución para 10 eventos Proceso 8.\n",
    "### Para 10 eventos\n",
    "\n",
    "Espacio: 207.1 kB e-\n",
    "\n",
    "Espacio: 204.6 kB gamma\n",
    "\n",
    "Espacio: 137.1 kB mu-\n",
    "\n",
    "Tiempo: 0m0.407s e-\n",
    "\n",
    "Tiempo: 0m0.382s gamma\n",
    "\n",
    "Tiempo: 0m0.359s -mu"
   ]
  },
  {
   "cell_type": "markdown",
   "metadata": {},
   "source": [
    "# Procesos"
   ]
  },
  {
   "cell_type": "markdown",
   "metadata": {},
   "source": [
    "# Tabla de Almacenamiento\n",
    "| Partícula | Proceso 4 | Proceso 5 | Proceso 6 | Proceso 8 | Proceso 9 |\n",
    "|-----------|-----------|-----------|-----------|-----------|-----------|\n",
    "| e-        | 175.5 Gb  | 146.48 GB |           | 20.210 GB |           |\n",
    "| gamma     | 170.0 Gb  | 136.72 GB |           | 19.980 GB |           |\n",
    "| mu-       | 150.0 Gb  | 126.95 GB |           | 13.390 GB |           |\n"
   ]
  },
  {
   "cell_type": "markdown",
   "metadata": {},
   "source": [
    "# Tabla de Horas de Cómputo\n",
    "\n",
    "| Partícula | Proceso 4 | Proceso 5 | Proceso 6 | Proceso 8 | Proceso 9 |\n",
    "|-----------|-----------|-----------|-----------|-----------|-----------|\n",
    "| e         | 189.860 h | 32.860 h  |           | 11.250 h  |           |\n",
    "| gamma     | 170.416 h | 30.920 h  |           | 10.610 h  |           |\n",
    "| mu        | 154.611 h | 27.720 h  |           | 09.970 h  |           |\n"
   ]
  }
 ],
 "metadata": {
  "language_info": {
   "name": "python"
  }
 },
 "nbformat": 4,
 "nbformat_minor": 2
}
