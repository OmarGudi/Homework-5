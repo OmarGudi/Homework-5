{
 "cells": [
  {
   "cell_type": "markdown",
   "metadata": {},
   "source": [
    "# Apuntes"
   ]
  },
  {
   "cell_type": "markdown",
   "metadata": {},
   "source": [
    "/home/omargudino/Documents/Maestria/Topicos_de_la_industria_2/MCA_AutoSC\n",
    "## Proceso 4, crear archivos ROOT utilizando el contenedor"
   ]
  },
  {
   "cell_type": "markdown",
   "metadata": {},
   "source": [
    "## Input\n",
    "/home/omargudino/Documents/Maestria/Topicos_de_la_industria_2/MCA_AutoSC/data/1_MAC/VaryE/e-\n",
    "/home/omargudino/Documents/Maestria/Topicos_de_la_industria_2/MCA_AutoSC/data/1_MAC/VaryE/gamma\n",
    "/home/omargudino/Documents/Maestria/Topicos_de_la_industria_2/MCA_AutoSC/data/1_MAC/VaryE/mu-"
   ]
  },
  {
   "cell_type": "markdown",
   "metadata": {},
   "source": [
    "## Output\n",
    "/home/omargudino/Documents/Maestria/Topicos_de_la_industria_2/MCA_AutoSC/data/2_ROOT/VaryE/e-"
   ]
  },
  {
   "cell_type": "markdown",
   "metadata": {},
   "source": [
    "## Shell\n",
    "\n",
    "time sudo docker exec -it WCSim bash -c \"cd /home/neutrino/software; source run.sh; cd $SOFTWARE/WCSim_build; ./WCSim /home/neutrino/in_out_demos/1_MAC/VaryE/e-/wcs_MCA_e-__0_500_MeV.mac; mv /home/neutrino/software/WCSim_build/wcs_MCA_e-__0_500_MeV.root  /home/neutrino/in_out_demos/2_ROOT/VaryE/e-\""
   ]
  },
  {
   "cell_type": "markdown",
   "metadata": {},
   "source": [
    "## Comandos previos"
   ]
  },
  {
   "cell_type": "markdown",
   "metadata": {},
   "source": [
    "sudo docker images\n",
    "\n",
    "sudo docker run -v < ruta-maquina-local >/MCA_AutoSC/data/in_out_demos:/home/neutrino/in_out_demos -d -it --name=WCSim manu33/wcsim:1.2\n",
    "\n",
    "sudo docker run -v /home/omargudino/Documents/Maestria/Topicos_de_la_industria_2/MCA_AutoSC/data:/home/neutrino/in_out_demos -d -it --name=WCSim manu33/wcsim:1.2 \n",
    "\n"
   ]
  },
  {
   "cell_type": "markdown",
   "metadata": {},
   "source": [
    "# En caso de que se desee remover la instancia anterior para corregir el directorio\n",
    "sudo docker stop WCSim\n",
    "\n",
    "sudo docker rm WCSim\n",
    "\n",
    "time sudo docker exec -it WCSim bash -c \"cd /home/neutrino/software; source run.sh; cd $SOFTWARE/WCSim_build; ./WCSim /home/neutrino/in_out_demos/1_MAC/VaryE/e-/wcs_MCA_e-__0_500_MeV.mac; mv /home/neutrino/software/WCSim_build/wcs_MCA_e-__0_500_MeV.root  /home/neutrino/in_out_demos/2_ROOT/VaryE/e-\"\n"
   ]
  },
  {
   "cell_type": "markdown",
   "metadata": {},
   "source": [
    "## Medidas de ejecución para 10 eventos\n",
    "### Para 10 eventos\n",
    "\n",
    "Espacio 1.8Mb\n",
    "\n",
    "Timepo \t0m6.087s\n",
    "\n",
    "### Para 1000 eventos\n",
    "\n",
    "Espacio 167Mb\n",
    "\n",
    "Tiempo 4m52.575s\n"
   ]
  },
  {
   "cell_type": "markdown",
   "metadata": {},
   "source": [
    "## Analisis de capacidad.\n",
    "\n",
    "175 599 000 000\n",
    "\n",
    "e   1M de eventos\n",
    "\n",
    "gamma 1M de eventos\n",
    "\n",
    "mu  1M de eventos\n",
    "\n",
    "Almacenamiento\n",
    "\n",
    "Particula       Proceso 4   Proceso 5   Proceso 6   Proceso 7\n",
    "e               175.5Gb     \n",
    "gamma           175.5Gb\n",
    "mu              175.5Gb\n",
    "\n",
    "Horas de computo\n",
    "\n",
    "Particula       Proceso 4   Proceso 5   Proceso 6   Proceso 7\n",
    "e               189.860h     \n",
    "gamma           189.860h\n",
    "mu              189.860h"
   ]
  },
  {
   "cell_type": "markdown",
   "metadata": {},
   "source": [
    "# Tabla de Almacenamiento\n",
    "| Partícula | Proceso 4 | Proceso 5 | Proceso 6 | Proceso 7 |\n",
    "|-----------|-----------|-----------|-----------|-----------|\n",
    "| e         | 175.5 Gb  |           |           |           |\n",
    "| gamma     | 175.5 Gb  |           |           |           |\n",
    "| mu        | 175.5 Gb  |           |           |           |\n"
   ]
  },
  {
   "cell_type": "markdown",
   "metadata": {},
   "source": [
    "# Tabla de Horas de Cómputo\n",
    "\n",
    "| Partícula | Proceso 4 | Proceso 5 | Proceso 6 | Proceso 7 |\n",
    "|-----------|-----------|-----------|-----------|-----------|\n",
    "| e         | 189.860 h |           |           |           |\n",
    "| gamma     | 189.860 h |           |           |           |\n",
    "| mu        | 189.860 h |           |           |           |\n"
   ]
  }
 ],
 "metadata": {
  "language_info": {
   "name": "python"
  }
 },
 "nbformat": 4,
 "nbformat_minor": 2
}
